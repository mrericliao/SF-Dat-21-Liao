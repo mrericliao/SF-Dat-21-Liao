{
 "cells": [
  {
   "cell_type": "markdown",
   "metadata": {},
   "source": [
    "# SF-DAT-21 | Unit Project 4\n",
    "\n",
    "In this project, you will summarize and present your analysis from Unit Projects 1-3."
   ]
  },
  {
   "cell_type": "markdown",
   "metadata": {},
   "source": [
    "### Question 1. Introduction: Write a problem Statement/Specific Aim for this project."
   ]
  },
  {
   "cell_type": "markdown",
   "metadata": {},
   "source": [
    "    Answer: What factor(s) play the most important role in getting accepted into graduate school?"
   ]
  },
  {
   "cell_type": "markdown",
   "metadata": {},
   "source": [
    "### Question 2. Dataset: Write up a description of your data and any cleaning that was completed."
   ]
  },
  {
   "cell_type": "markdown",
   "metadata": {},
   "source": [
    "    Answer: We will examine admissions data from a graduate school, and see what factors (GPA, GRE, Prestige) play the most important factor in being admitted into the school."
   ]
  },
  {
   "cell_type": "markdown",
   "metadata": {
    "collapsed": true
   },
   "source": [
    "### Question 3. Demo: Provide a table that explains the data by admission status."
   ]
  },
  {
   "cell_type": "markdown",
   "metadata": {},
   "source": [
    "Mean (STD) or counts by admission status for each variable\n",
    "\n",
    "| Not Admitted | Admitted\n",
    "---| ---|---\n",
    "GPA | mean (3.35) | mean(3.489)\n",
    "GRE |mean(573.58) | mean(618.57)\n",
    "Prestige 1 | frequency (46%) | frequency (54%)\n",
    "Prestige 2 | frequency (64%) | frequency (36%)\n",
    "Prestige 3 |frequency (77%) | frequency (23%)\n",
    "Prestige 4 |frequency (82%) | frequency (18%)"
   ]
  },
  {
   "cell_type": "markdown",
   "metadata": {},
   "source": [
    "### Question 4. Methods: Write up the methods used in your analysis."
   ]
  },
  {
   "cell_type": "markdown",
   "metadata": {},
   "source": [
    "    Answer: I used Pandas DataFrame to create 2 tables/dataframes: admit/not admit vs gpa, & admit/not admit vs gre.  Next, I defined 2 functions in both dataframes to separate admitted & not admitted statuses.  I then took the mean of both frames to find the means respectively.  Finally, I took the percentages of being admitted or not admitted for each of my prestige dummy variables."
   ]
  },
  {
   "cell_type": "markdown",
   "metadata": {},
   "source": [
    "### Question 5. Results: Write up your results."
   ]
  },
  {
   "cell_type": "markdown",
   "metadata": {},
   "source": [
    "    Answer: The average GPA score for students who were admitted did not differ much from those who were not admitted (.139).  On the other hand, the average GRE score for students who were admitted did differ much more than those who were not admitted (44.99).  Students who attended more prestigiously ranked schools also had a higher admission percentage.  "
   ]
  },
  {
   "cell_type": "markdown",
   "metadata": {},
   "source": [
    "### Question 6. Visuals: Provide a table or visualization of these results."
   ]
  },
  {
   "cell_type": "markdown",
   "metadata": {},
   "source": [
    "<img src='assets/gre.png' height= 25% width= 25%>"
   ]
  },
  {
   "cell_type": "markdown",
   "metadata": {},
   "source": [
    "<img src='assets/gpa.png' height= 25% width= 25%>"
   ]
  },
  {
   "cell_type": "markdown",
   "metadata": {},
   "source": [
    "### question 7. Discussion: Write up your discussion and future steps."
   ]
  },
  {
   "cell_type": "markdown",
   "metadata": {},
   "source": [
    "    Answer: There is a distinct difference between the lowest gre and gpa scores for students who were admitted and not admitted.  However, the difference between the highest gre and gpa scores and admission status looks rather low.  Moving forward, I'd like to see if any outside factors make a difference in admission (household family income, location, etc.)."
   ]
  }
 ],
 "metadata": {
  "kernelspec": {
   "display_name": "Python 2",
   "language": "python",
   "name": "python2"
  },
  "language_info": {
   "codemirror_mode": {
    "name": "ipython",
    "version": 2
   },
   "file_extension": ".py",
   "mimetype": "text/x-python",
   "name": "python",
   "nbconvert_exporter": "python",
   "pygments_lexer": "ipython2",
   "version": "2.7.11"
  }
 },
 "nbformat": 4,
 "nbformat_minor": 0
}
